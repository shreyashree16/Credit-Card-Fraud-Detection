{
  "cells": [
    {
      "cell_type": "code",
      "execution_count": null,
      "metadata": {
        "id": "k81Zi3-8Tc8R"
      },
      "outputs": [],
      "source": [
        "#MADE BY - SHREYA SHREE\n",
        "#GRAPHIC ERA DEEMED TO BE UNIVERSITY\n",
        "#LEAVE CONTRIBUTION MARKS FOR REPRODUCTION\n",
        "#USE PYTHON 3.0 OR ABOVE"
      ]
    },
    {
      "cell_type": "code",
      "execution_count": null,
      "metadata": {
        "_uuid": "0f34e1e378b762166698b0136c57048a45e7858c",
        "id": "YN_6VHleTPvI",
        "trusted": true
      },
      "outputs": [],
      "source": [
        "import pandas as pd \n",
        "import numpy as np\n",
        "import matplotlib\n",
        "import matplotlib.pyplot as plt\n",
        "import seaborn as sns\n",
        "%matplotlib inline \n",
        "import plotly.graph_objs as go\n",
        "import plotly.figure_factory as ff\n",
        "from plotly import tools\n",
        "from plotly.offline import download_plotlyjs, init_notebook_mode, plot, iplot\n",
        "init_notebook_mode(connected=True)\n",
        "\n",
        "\n",
        "import gc\n",
        "from datetime import datetime \n",
        "from sklearn.model_selection import train_test_split\n",
        "from sklearn.model_selection import KFold\n",
        "from sklearn.metrics import roc_auc_score\n",
        "from sklearn.ensemble import RandomForestClassifier\n",
        "from sklearn.ensemble import AdaBoostClassifier\n",
        "from catboost import CatBoostClassifier\n",
        "from sklearn import svm\n",
        "import lightgbm as lgb\n",
        "from lightgbm import LGBMClassifier\n",
        "import xgboost as xgb\n",
        "\n",
        "pd.set_option('display.max_columns', 100)\n",
        "\n",
        "\n",
        "RFC_METRIC = 'gini'  #metric used for RandomForrestClassifier\n",
        "NUM_ESTIMATORS = 100 #number of estimators used for RandomForrestClassifier\n",
        "NO_JOBS = 4 #number of parallel jobs used for RandomForrestClassifier\n",
        "\n",
        "\n",
        "#TRAIN/VALIDATION/TEST SPLIT\n",
        "#VALIDATION\n",
        "VALID_SIZE = 0.20 # simple validation using train_test_split\n",
        "TEST_SIZE = 0.20 # test size using_train_test_split\n",
        "\n",
        "#CROSS-VALIDATION\n",
        "NUMBER_KFOLDS = 5 #number of KFolds for cross-validation\n",
        "\n",
        "\n",
        "\n",
        "RANDOM_STATE = 2018\n",
        "\n",
        "MAX_ROUNDS = 1000 #lgb iterations\n",
        "EARLY_STOP = 50 #lgb early stop \n",
        "OPT_ROUNDS = 1000  #To be adjusted based on best validation rounds\n",
        "VERBOSE_EVAL = 50 #Print out metric result\n",
        "\n",
        "IS_LOCAL = False\n",
        "\n",
        "import os\n",
        "\n",
        "if(IS_LOCAL):\n",
        "    PATH=\"../input/credit-card-fraud-detection\"\n",
        "else:\n",
        "    PATH=\"../input\"\n",
        "print(os.listdir(PATH))"
      ]
    },
    {
      "cell_type": "code",
      "execution_count": null,
      "metadata": {
        "_uuid": "42e4a9f9b53f6d46cabd00b64a0e9f52b7abcd82",
        "id": "2r_-XwIDTPvK",
        "trusted": true
      },
      "outputs": [],
      "source": [
        "data_df = pd.read_csv(PATH+\"/creditcard.csv\")"
      ]
    },
    {
      "cell_type": "code",
      "execution_count": null,
      "metadata": {
        "_uuid": "ed93a290bcf10bcf817dc9489a308d489c0cfd40",
        "id": "hfzFf9FlTPvL",
        "trusted": true
      },
      "outputs": [],
      "source": [
        "print(\"Credit Card Fraud Detection data -  rows:\",data_df.shape[0],\" columns:\", data_df.shape[1])"
      ]
    },
    {
      "cell_type": "code",
      "execution_count": null,
      "metadata": {
        "_uuid": "c426639fdeb77bea60513724c6c438a5e8a02f8a",
        "id": "Finf9SY3TPvL",
        "trusted": true
      },
      "outputs": [],
      "source": [
        "data_df.head()"
      ]
    },
    {
      "cell_type": "code",
      "execution_count": null,
      "metadata": {
        "_uuid": "8705f721907820bfc8c720f2f5ac5e0f9f28fa42",
        "id": "NbFpp6fCTPvL",
        "trusted": true
      },
      "outputs": [],
      "source": [
        "data_df.describe()"
      ]
    },
    {
      "cell_type": "code",
      "execution_count": null,
      "metadata": {
        "_uuid": "51940c5cfb59bb4720d70157c310a339ce483eb6",
        "id": "A7h7HjJUTPvM",
        "trusted": true
      },
      "outputs": [],
      "source": [
        "total = data_df.isnull().sum().sort_values(ascending = False)\n",
        "percent = (data_df.isnull().sum()/data_df.isnull().count()*100).sort_values(ascending = False)\n",
        "pd.concat([total, percent], axis=1, keys=['Total', 'Percent']).transpose()"
      ]
    },
    {
      "cell_type": "code",
      "execution_count": null,
      "metadata": {
        "_uuid": "c07847fe84817c98455db7ad7e49c5d991ac58a9",
        "id": "DSH5h3GlTPvM",
        "trusted": true
      },
      "outputs": [],
      "source": [
        "temp = data_df[\"Class\"].value_counts()\n",
        "df = pd.DataFrame({'Class': temp.index,'values': temp.values})\n",
        "\n",
        "trace = go.Bar(\n",
        "    x = df['Class'],y = df['values'],\n",
        "    name=\"Credit Card Fraud Class - data unbalance (Not fraud = 0, Fraud = 1)\",\n",
        "    marker=dict(color=\"Red\"),\n",
        "    text=df['values']\n",
        ")\n",
        "data = [trace]\n",
        "layout = dict(title = 'Credit Card Fraud Class - data unbalance (Not fraud = 0, Fraud = 1)',\n",
        "          xaxis = dict(title = 'Class', showticklabels=True), \n",
        "          yaxis = dict(title = 'Number of transactions'),\n",
        "          hovermode = 'closest',width=600\n",
        "         )\n",
        "fig = dict(data=data, layout=layout)\n",
        "iplot(fig, filename='class')"
      ]
    },
    {
      "cell_type": "code",
      "execution_count": null,
      "metadata": {
        "_uuid": "b9521e8cc9f179887c5dc454ed84d0ba20e55946",
        "id": "X2eKhFEkTPvM",
        "trusted": true
      },
      "outputs": [],
      "source": [
        "class_0 = data_df.loc[data_df['Class'] == 0][\"Time\"]\n",
        "class_1 = data_df.loc[data_df['Class'] == 1][\"Time\"]\n",
        "\n",
        "hist_data = [class_0, class_1]\n",
        "group_labels = ['Not Fraud', 'Fraud']\n",
        "\n",
        "fig = ff.create_distplot(hist_data, group_labels, show_hist=False, show_rug=False)\n",
        "fig['layout'].update(title='Credit Card Transactions Time Density Plot', xaxis=dict(title='Time [s]'))\n",
        "iplot(fig, filename='dist_only')"
      ]
    },
    {
      "cell_type": "code",
      "execution_count": null,
      "metadata": {
        "id": "V5maQ3tNTPvN",
        "trusted": true
      },
      "outputs": [],
      "source": [
        "data_df['Hour'] = data_df['Time'].apply(lambda x: np.floor(x / 3600))\n",
        "\n",
        "tmp = data_df.groupby(['Hour', 'Class'])['Amount'].aggregate(['min', 'max', 'count', 'sum', 'mean', 'median', 'var']).reset_index()\n",
        "df = pd.DataFrame(tmp)\n",
        "df.columns = ['Hour', 'Class', 'Min', 'Max', 'Transactions', 'Sum', 'Mean', 'Median', 'Var']\n",
        "df.head()"
      ]
    },
    {
      "cell_type": "code",
      "execution_count": null,
      "metadata": {
        "id": "8b2_1UWDTPvN",
        "trusted": true
      },
      "outputs": [],
      "source": [
        "fig, (ax1, ax2) = plt.subplots(ncols=2, figsize=(18,6))\n",
        "s = sns.lineplot(ax = ax1, x=\"Hour\", y=\"Sum\", data=df.loc[df.Class==0])\n",
        "s = sns.lineplot(ax = ax2, x=\"Hour\", y=\"Sum\", data=df.loc[df.Class==1], color=\"red\")\n",
        "plt.suptitle(\"Total Amount\")\n",
        "plt.show();"
      ]
    },
    {
      "cell_type": "code",
      "execution_count": null,
      "metadata": {
        "id": "lu_muL8tTPvO",
        "trusted": true
      },
      "outputs": [],
      "source": [
        "fig, (ax1, ax2) = plt.subplots(ncols=2, figsize=(18,6))\n",
        "s = sns.lineplot(ax = ax1, x=\"Hour\", y=\"Transactions\", data=df.loc[df.Class==0])\n",
        "s = sns.lineplot(ax = ax2, x=\"Hour\", y=\"Transactions\", data=df.loc[df.Class==1], color=\"red\")\n",
        "plt.suptitle(\"Total Number of Transactions\")\n",
        "plt.show();"
      ]
    },
    {
      "cell_type": "code",
      "execution_count": null,
      "metadata": {
        "id": "UfueIfWqTPvO",
        "trusted": true
      },
      "outputs": [],
      "source": [
        "fig, (ax1, ax2) = plt.subplots(ncols=2, figsize=(18,6))\n",
        "s = sns.lineplot(ax = ax1, x=\"Hour\", y=\"Mean\", data=df.loc[df.Class==0])\n",
        "s = sns.lineplot(ax = ax2, x=\"Hour\", y=\"Mean\", data=df.loc[df.Class==1], color=\"red\")\n",
        "plt.suptitle(\"Average Amount of Transactions\")\n",
        "plt.show();"
      ]
    },
    {
      "cell_type": "code",
      "execution_count": null,
      "metadata": {
        "id": "BecOoPTfTPvO",
        "trusted": true
      },
      "outputs": [],
      "source": [
        "fig, (ax1, ax2) = plt.subplots(ncols=2, figsize=(18,6))\n",
        "s = sns.lineplot(ax = ax1, x=\"Hour\", y=\"Max\", data=df.loc[df.Class==0])\n",
        "s = sns.lineplot(ax = ax2, x=\"Hour\", y=\"Max\", data=df.loc[df.Class==1], color=\"red\")\n",
        "plt.suptitle(\"Maximum Amount of Transactions\")\n",
        "plt.show();"
      ]
    },
    {
      "cell_type": "code",
      "execution_count": null,
      "metadata": {
        "id": "pgo9_0OoTPvO",
        "trusted": true
      },
      "outputs": [],
      "source": [
        "fig, (ax1, ax2) = plt.subplots(ncols=2, figsize=(18,6))\n",
        "s = sns.lineplot(ax = ax1, x=\"Hour\", y=\"Median\", data=df.loc[df.Class==0])\n",
        "s = sns.lineplot(ax = ax2, x=\"Hour\", y=\"Median\", data=df.loc[df.Class==1], color=\"red\")\n",
        "plt.suptitle(\"Median Amount of Transactions\")\n",
        "plt.show();"
      ]
    },
    {
      "cell_type": "code",
      "execution_count": null,
      "metadata": {
        "id": "__hzPamgTPvP",
        "trusted": true
      },
      "outputs": [],
      "source": [
        "fig, (ax1, ax2) = plt.subplots(ncols=2, figsize=(18,6))\n",
        "s = sns.lineplot(ax = ax1, x=\"Hour\", y=\"Min\", data=df.loc[df.Class==0])\n",
        "s = sns.lineplot(ax = ax2, x=\"Hour\", y=\"Min\", data=df.loc[df.Class==1], color=\"red\")\n",
        "plt.suptitle(\"Minimum Amount of Transactions\")\n",
        "plt.show();"
      ]
    },
    {
      "cell_type": "code",
      "execution_count": null,
      "metadata": {
        "_uuid": "639b6fec6066d52f91c6766ef372df39a39c2fe1",
        "id": "l4QokaSqTPvP",
        "trusted": true
      },
      "outputs": [],
      "source": [
        "fig, (ax1, ax2) = plt.subplots(ncols=2, figsize=(12,6))\n",
        "s = sns.boxplot(ax = ax1, x=\"Class\", y=\"Amount\", hue=\"Class\",data=data_df, palette=\"PRGn\",showfliers=True)\n",
        "s = sns.boxplot(ax = ax2, x=\"Class\", y=\"Amount\", hue=\"Class\",data=data_df, palette=\"PRGn\",showfliers=False)\n",
        "plt.show();"
      ]
    },
    {
      "cell_type": "code",
      "execution_count": null,
      "metadata": {
        "_uuid": "2a797b1b01b66a3171197cbfc1a1a37bf36b0d57",
        "id": "vzcAOeuaTPvP",
        "trusted": true
      },
      "outputs": [],
      "source": [
        "tmp = data_df[['Amount','Class']].copy()\n",
        "class_0 = tmp.loc[tmp['Class'] == 0]['Amount']\n",
        "class_1 = tmp.loc[tmp['Class'] == 1]['Amount']\n",
        "class_0.describe()"
      ]
    },
    {
      "cell_type": "code",
      "execution_count": null,
      "metadata": {
        "_uuid": "90705320eb4f147ec29f13620e010501217b981d",
        "id": "l_XeA24cTPvP",
        "trusted": true
      },
      "outputs": [],
      "source": [
        "class_1.describe()"
      ]
    },
    {
      "cell_type": "code",
      "execution_count": null,
      "metadata": {
        "_uuid": "29575f5187154024c911642bd329289199253a90",
        "id": "sTfi0nv7TPvP",
        "trusted": true
      },
      "outputs": [],
      "source": [
        "fraud = data_df.loc[data_df['Class'] == 1]\n",
        "\n",
        "trace = go.Scatter(\n",
        "    x = fraud['Time'],y = fraud['Amount'],\n",
        "    name=\"Amount\",\n",
        "     marker=dict(\n",
        "                color='rgb(238,23,11)',\n",
        "                line=dict(\n",
        "                    color='red',\n",
        "                    width=1),\n",
        "                opacity=0.5,\n",
        "            ),\n",
        "    text= fraud['Amount'],\n",
        "    mode = \"markers\"\n",
        ")\n",
        "data = [trace]\n",
        "layout = dict(title = 'Amount of fraudulent transactions',\n",
        "          xaxis = dict(title = 'Time [s]', showticklabels=True), \n",
        "          yaxis = dict(title = 'Amount'),\n",
        "          hovermode='closest'\n",
        "         )\n",
        "fig = dict(data=data, layout=layout)\n",
        "iplot(fig, filename='fraud-amount')"
      ]
    },
    {
      "cell_type": "code",
      "execution_count": null,
      "metadata": {
        "_uuid": "2a35594b8bf2ec37febec7570d4d3a25872b648b",
        "id": "MOrIBSg0TPvQ",
        "trusted": true
      },
      "outputs": [],
      "source": [
        "plt.figure(figsize = (14,14))\n",
        "plt.title('Credit Card Transactions features correlation plot (Pearson)')\n",
        "corr = data_df.corr()\n",
        "sns.heatmap(corr,xticklabels=corr.columns,yticklabels=corr.columns,linewidths=.1,cmap=\"Reds\")\n",
        "plt.show()"
      ]
    },
    {
      "cell_type": "code",
      "execution_count": null,
      "metadata": {
        "_uuid": "fd8f8bd03486fe3f2d7c89d00a5c0575a153d969",
        "id": "6ukIYiSVTPvQ",
        "trusted": true
      },
      "outputs": [],
      "source": [
        "s = sns.lmplot(x='V20', y='Amount',data=data_df, hue='Class', fit_reg=True,scatter_kws={'s':2})\n",
        "s = sns.lmplot(x='V7', y='Amount',data=data_df, hue='Class', fit_reg=True,scatter_kws={'s':2})\n",
        "plt.show()"
      ]
    },
    {
      "cell_type": "code",
      "execution_count": null,
      "metadata": {
        "_uuid": "4ae4211f20ba8db85b7f8f61ade2d24788be9aa4",
        "id": "kQxs9PBsTPvQ",
        "trusted": true
      },
      "outputs": [],
      "source": [
        "s = sns.lmplot(x='V2', y='Amount',data=data_df, hue='Class', fit_reg=True,scatter_kws={'s':2})\n",
        "s = sns.lmplot(x='V5', y='Amount',data=data_df, hue='Class', fit_reg=True,scatter_kws={'s':2})\n",
        "plt.show()"
      ]
    },
    {
      "cell_type": "code",
      "execution_count": null,
      "metadata": {
        "_uuid": "b041d9877768c687ab4d2b314dbef5f4f3738176",
        "id": "s0RaPsRNTPvR",
        "trusted": true
      },
      "outputs": [],
      "source": [
        "var = data_df.columns.values\n",
        "\n",
        "i = 0\n",
        "t0 = data_df.loc[data_df['Class'] == 0]\n",
        "t1 = data_df.loc[data_df['Class'] == 1]\n",
        "\n",
        "sns.set_style('whitegrid')\n",
        "plt.figure()\n",
        "fig, ax = plt.subplots(8,4,figsize=(16,28))\n",
        "\n",
        "for feature in var:\n",
        "    i += 1\n",
        "    plt.subplot(8,4,i)\n",
        "    sns.kdeplot(t0[feature], bw=0.5,label=\"Class = 0\")\n",
        "    sns.kdeplot(t1[feature], bw=0.5,label=\"Class = 1\")\n",
        "    plt.xlabel(feature, fontsize=12)\n",
        "    locs, labels = plt.xticks()\n",
        "    plt.tick_params(axis='both', which='major', labelsize=12)\n",
        "plt.show();"
      ]
    },
    {
      "cell_type": "code",
      "execution_count": null,
      "metadata": {
        "_uuid": "05466e1862ba4f872dc05faa4b4dc84430660639",
        "id": "TiX_Eh_eTPvS",
        "trusted": true
      },
      "outputs": [],
      "source": [
        "target = 'Class'\n",
        "predictors = ['Time', 'V1', 'V2', 'V3', 'V4', 'V5', 'V6', 'V7', 'V8', 'V9', 'V10',\\\n",
        "       'V11', 'V12', 'V13', 'V14', 'V15', 'V16', 'V17', 'V18', 'V19',\\\n",
        "       'V20', 'V21', 'V22', 'V23', 'V24', 'V25', 'V26', 'V27', 'V28',\\\n",
        "       'Amount']"
      ]
    },
    {
      "cell_type": "code",
      "execution_count": null,
      "metadata": {
        "_uuid": "c27f7166f9a0d96a0a7135df30ae5201d5a2bb3a",
        "id": "3OywRkPqTPvT",
        "trusted": true
      },
      "outputs": [],
      "source": [
        "train_df, test_df = train_test_split(data_df, test_size=TEST_SIZE, random_state=RANDOM_STATE, shuffle=True )\n",
        "train_df, valid_df = train_test_split(train_df, test_size=VALID_SIZE, random_state=RANDOM_STATE, shuffle=True )"
      ]
    },
    {
      "cell_type": "code",
      "execution_count": null,
      "metadata": {
        "_uuid": "88cfc485083044018748f977b8e9cb13bf91a4a8",
        "id": "WoQ3DVRRTPvT",
        "trusted": true
      },
      "outputs": [],
      "source": [
        "clf = RandomForestClassifier(n_jobs=NO_JOBS, \n",
        "                             random_state=RANDOM_STATE,\n",
        "                             criterion=RFC_METRIC,\n",
        "                             n_estimators=NUM_ESTIMATORS,\n",
        "                             verbose=False)"
      ]
    },
    {
      "cell_type": "code",
      "execution_count": null,
      "metadata": {
        "_uuid": "5042efd869d672392cb81437a03719d07ae684f1",
        "id": "6Zd5ov7rTPvT",
        "trusted": true
      },
      "outputs": [],
      "source": [
        "clf.fit(train_df[predictors], train_df[target].values)"
      ]
    },
    {
      "cell_type": "code",
      "execution_count": null,
      "metadata": {
        "_uuid": "976e7e8d9adec49369b81c8a14e4e676e15709c9",
        "id": "MUftPXllTPvT",
        "trusted": true
      },
      "outputs": [],
      "source": [
        "preds = clf.predict(valid_df[predictors])"
      ]
    },
    {
      "cell_type": "code",
      "execution_count": null,
      "metadata": {
        "_uuid": "149ae586de1a7318f4063f2497d16b6457c5f478",
        "id": "IZbJVI_uTPvU",
        "trusted": true
      },
      "outputs": [],
      "source": [
        "tmp = pd.DataFrame({'Feature': predictors, 'Feature importance': clf.feature_importances_})\n",
        "tmp = tmp.sort_values(by='Feature importance',ascending=False)\n",
        "plt.figure(figsize = (7,4))\n",
        "plt.title('Features importance',fontsize=14)\n",
        "s = sns.barplot(x='Feature',y='Feature importance',data=tmp)\n",
        "s.set_xticklabels(s.get_xticklabels(),rotation=90)\n",
        "plt.show()   \n"
      ]
    },
    {
      "cell_type": "code",
      "execution_count": null,
      "metadata": {
        "_uuid": "acdc37e14e96287ea2f96c4530bfde388d8af2f2",
        "id": "UR0IfFamTPvU",
        "trusted": true
      },
      "outputs": [],
      "source": [
        "cm = pd.crosstab(valid_df[target].values, preds, rownames=['Actual'], colnames=['Predicted'])\n",
        "fig, (ax1) = plt.subplots(ncols=1, figsize=(5,5))\n",
        "sns.heatmap(cm, \n",
        "            xticklabels=['Not Fraud', 'Fraud'],\n",
        "            yticklabels=['Not Fraud', 'Fraud'],\n",
        "            annot=True,ax=ax1,\n",
        "            linewidths=.2,linecolor=\"Darkblue\", cmap=\"Blues\")\n",
        "plt.title('Confusion Matrix', fontsize=14)\n",
        "plt.show()"
      ]
    },
    {
      "cell_type": "code",
      "execution_count": null,
      "metadata": {
        "_uuid": "b67d0d3a695ccd69fba3b9ea576e7019d6091257",
        "id": "seVjN_4iTPvU",
        "trusted": true
      },
      "outputs": [],
      "source": [
        "roc_auc_score(valid_df[target].values, preds)"
      ]
    },
    {
      "cell_type": "code",
      "execution_count": null,
      "metadata": {
        "_uuid": "17c5211f4f1f5f4bb406ab17d45abdc5b46c087f",
        "id": "8CCkaJD5TPvU",
        "trusted": true
      },
      "outputs": [],
      "source": [
        "clf = AdaBoostClassifier(random_state=RANDOM_STATE,\n",
        "                         algorithm='SAMME.R',\n",
        "                         learning_rate=0.8,\n",
        "                             n_estimators=NUM_ESTIMATORS)"
      ]
    },
    {
      "cell_type": "code",
      "execution_count": null,
      "metadata": {
        "_uuid": "1bdbe7616f0c2ab48932705e0a143c6a0a9b8049",
        "id": "fR3gAbOPTPvU",
        "trusted": true
      },
      "outputs": [],
      "source": [
        "clf.fit(train_df[predictors], train_df[target].values)"
      ]
    },
    {
      "cell_type": "code",
      "execution_count": null,
      "metadata": {
        "_uuid": "77ddd7b77838e7b83d6a24fa6d6449ae0567b2bf",
        "id": "hpHmOucxTPvV",
        "trusted": true
      },
      "outputs": [],
      "source": [
        "preds = clf.predict(valid_df[predictors])"
      ]
    },
    {
      "cell_type": "code",
      "execution_count": null,
      "metadata": {
        "_uuid": "2efbe2f5f9554fa96788ad1a619fe1943ee1e6df",
        "id": "Xuhp87zaTPvV",
        "trusted": true
      },
      "outputs": [],
      "source": [
        "tmp = pd.DataFrame({'Feature': predictors, 'Feature importance': clf.feature_importances_})\n",
        "tmp = tmp.sort_values(by='Feature importance',ascending=False)\n",
        "plt.figure(figsize = (7,4))\n",
        "plt.title('Features importance',fontsize=14)\n",
        "s = sns.barplot(x='Feature',y='Feature importance',data=tmp)\n",
        "s.set_xticklabels(s.get_xticklabels(),rotation=90)\n",
        "plt.show()   "
      ]
    },
    {
      "cell_type": "code",
      "execution_count": null,
      "metadata": {
        "_uuid": "0adcb109549fc61381f8dcf6fd894b83f3a69809",
        "id": "WkotM6ILTPvV",
        "trusted": true
      },
      "outputs": [],
      "source": [
        "cm = pd.crosstab(valid_df[target].values, preds, rownames=['Actual'], colnames=['Predicted'])\n",
        "fig, (ax1) = plt.subplots(ncols=1, figsize=(5,5))\n",
        "sns.heatmap(cm, \n",
        "            xticklabels=['Not Fraud', 'Fraud'],\n",
        "            yticklabels=['Not Fraud', 'Fraud'],\n",
        "            annot=True,ax=ax1,\n",
        "            linewidths=.2,linecolor=\"Darkblue\", cmap=\"Blues\")\n",
        "plt.title('Confusion Matrix', fontsize=14)\n",
        "plt.show()"
      ]
    },
    {
      "cell_type": "code",
      "execution_count": null,
      "metadata": {
        "_uuid": "f95a9ced1ff6ed2257f1e21c604a2ffcf769feed",
        "id": "HBbb8MaQTPvV",
        "trusted": true
      },
      "outputs": [],
      "source": [
        "roc_auc_score(valid_df[target].values, preds)"
      ]
    },
    {
      "cell_type": "code",
      "execution_count": null,
      "metadata": {
        "_uuid": "5a663cefd0b35e44bec74dda1e3ece37f430bc69",
        "id": "zwG4S6SVTPvV",
        "trusted": true
      },
      "outputs": [],
      "source": [
        "clf = CatBoostClassifier(iterations=500,\n",
        "                             learning_rate=0.02,\n",
        "                             depth=12,\n",
        "                             eval_metric='AUC',\n",
        "                             random_seed = RANDOM_STATE,\n",
        "                             bagging_temperature = 0.2,\n",
        "                             od_type='Iter',\n",
        "                             metric_period = VERBOSE_EVAL,\n",
        "                             od_wait=100)"
      ]
    },
    {
      "cell_type": "code",
      "execution_count": null,
      "metadata": {
        "_uuid": "f571a8ac45728504d805e1b4b12e3e672a01d381",
        "id": "CautgggmTPvV",
        "trusted": true
      },
      "outputs": [],
      "source": [
        "clf.fit(train_df[predictors], train_df[target].values,verbose=True)"
      ]
    },
    {
      "cell_type": "code",
      "execution_count": null,
      "metadata": {
        "_uuid": "5b1c1fbaf25f4d16c6fc3ddcf3a25a16181fea3b",
        "id": "GzBQ_hFuTPvW",
        "trusted": true
      },
      "outputs": [],
      "source": [
        "preds = clf.predict(valid_df[predictors])"
      ]
    },
    {
      "cell_type": "code",
      "execution_count": null,
      "metadata": {
        "_uuid": "afeee803fd3273651754c68619a00250e1cd524d",
        "id": "K-LyRwDgTPvW",
        "trusted": true
      },
      "outputs": [],
      "source": [
        "tmp = pd.DataFrame({'Feature': predictors, 'Feature importance': clf.feature_importances_})\n",
        "tmp = tmp.sort_values(by='Feature importance',ascending=False)\n",
        "plt.figure(figsize = (7,4))\n",
        "plt.title('Features importance',fontsize=14)\n",
        "s = sns.barplot(x='Feature',y='Feature importance',data=tmp)\n",
        "s.set_xticklabels(s.get_xticklabels(),rotation=90)\n",
        "plt.show()   "
      ]
    },
    {
      "cell_type": "code",
      "execution_count": null,
      "metadata": {
        "_uuid": "39ac2f75b7317e00a688d4d6872a1671e9d2da21",
        "id": "vTjC9GmSTPvW",
        "trusted": true
      },
      "outputs": [],
      "source": [
        "cm = pd.crosstab(valid_df[target].values, preds, rownames=['Actual'], colnames=['Predicted'])\n",
        "fig, (ax1) = plt.subplots(ncols=1, figsize=(5,5))\n",
        "sns.heatmap(cm, \n",
        "            xticklabels=['Not Fraud', 'Fraud'],\n",
        "            yticklabels=['Not Fraud', 'Fraud'],\n",
        "            annot=True,ax=ax1,\n",
        "            linewidths=.2,linecolor=\"Darkblue\", cmap=\"Blues\")\n",
        "plt.title('Confusion Matrix', fontsize=14)\n",
        "plt.show()"
      ]
    },
    {
      "cell_type": "code",
      "execution_count": null,
      "metadata": {
        "_uuid": "701ff6a7cd11cd6556e50c9c073cbddf80555306",
        "id": "ZtVWwfY0TPvW",
        "trusted": true
      },
      "outputs": [],
      "source": [
        "roc_auc_score(valid_df[target].values, preds)"
      ]
    },
    {
      "cell_type": "code",
      "execution_count": null,
      "metadata": {
        "_uuid": "eeb48986db87e26413d3a5efa286d18e82c0efc6",
        "id": "Hw5zdosTTPvW",
        "trusted": true
      },
      "outputs": [],
      "source": [
        "# Prepare the train and valid datasets\n",
        "dtrain = xgb.DMatrix(train_df[predictors], train_df[target].values)\n",
        "dvalid = xgb.DMatrix(valid_df[predictors], valid_df[target].values)\n",
        "dtest = xgb.DMatrix(test_df[predictors], test_df[target].values)\n",
        "\n",
        "#What to monitor (in this case, **train** and **valid**)\n",
        "watchlist = [(dtrain, 'train'), (dvalid, 'valid')]\n",
        "\n",
        "# Set xgboost parameters\n",
        "params = {}\n",
        "params['objective'] = 'binary:logistic'\n",
        "params['eta'] = 0.039\n",
        "params['silent'] = True\n",
        "params['max_depth'] = 2\n",
        "params['subsample'] = 0.8\n",
        "params['colsample_bytree'] = 0.9\n",
        "params['eval_metric'] = 'auc'\n",
        "params['random_state'] = RANDOM_STATE"
      ]
    },
    {
      "cell_type": "code",
      "execution_count": null,
      "metadata": {
        "_uuid": "5d066b1791e0d2463897b8a0c797cfbc38afa846",
        "id": "qfzoXyCMTPvX",
        "trusted": true
      },
      "outputs": [],
      "source": [
        "model = xgb.train(params, \n",
        "                dtrain, \n",
        "                MAX_ROUNDS, \n",
        "                watchlist, \n",
        "                early_stopping_rounds=EARLY_STOP, \n",
        "                maximize=True, \n",
        "                verbose_eval=VERBOSE_EVAL)"
      ]
    },
    {
      "cell_type": "code",
      "execution_count": null,
      "metadata": {
        "_uuid": "2592eeaa312ba24ead2fea4cbd7b71d4537f4a75",
        "id": "BOsSdu63TPvX",
        "trusted": true
      },
      "outputs": [],
      "source": [
        "fig, (ax) = plt.subplots(ncols=1, figsize=(8,5))\n",
        "xgb.plot_importance(model, height=0.8, title=\"Features importance (XGBoost)\", ax=ax, color=\"green\") \n",
        "plt.show()"
      ]
    },
    {
      "cell_type": "code",
      "execution_count": null,
      "metadata": {
        "_uuid": "99b130c043241ecc0ea5c64df1a92940d6c458a8",
        "id": "5FpWDLpdTPvX",
        "trusted": true
      },
      "outputs": [],
      "source": [
        "preds = model.predict(dtest)"
      ]
    },
    {
      "cell_type": "code",
      "execution_count": null,
      "metadata": {
        "_uuid": "bb7ddd8e0f7fc14556495aaab62065e9cad7a2d3",
        "id": "ytnpFK4CTPvX",
        "trusted": true
      },
      "outputs": [],
      "source": [
        "roc_auc_score(test_df[target].values, preds)"
      ]
    },
    {
      "cell_type": "code",
      "execution_count": null,
      "metadata": {
        "_uuid": "17cb571126b6a176a016e7e962441a1fbefc4e1c",
        "id": "hyF_z0PmTPvX",
        "trusted": true
      },
      "outputs": [],
      "source": [
        "params = {\n",
        "          'boosting_type': 'gbdt',\n",
        "          'objective': 'binary',\n",
        "          'metric':'auc',\n",
        "          'learning_rate': 0.05,\n",
        "          'num_leaves': 7,  # we should let it be smaller than 2^(max_depth)\n",
        "          'max_depth': 4,  # -1 means no limit\n",
        "          'min_child_samples': 100,  # Minimum number of data need in a child(min_data_in_leaf)\n",
        "          'max_bin': 100,  # Number of bucketed bin for feature values\n",
        "          'subsample': 0.9,  # Subsample ratio of the training instance.\n",
        "          'subsample_freq': 1,  # frequence of subsample, <=0 means no enable\n",
        "          'colsample_bytree': 0.7,  # Subsample ratio of columns when constructing each tree.\n",
        "          'min_child_weight': 0,  # Minimum sum of instance weight(hessian) needed in a child(leaf)\n",
        "          'min_split_gain': 0,  # lambda_l1, lambda_l2 and min_gain_to_split to regularization\n",
        "          'nthread': 8,\n",
        "          'verbose': 0,\n",
        "          'scale_pos_weight':150, # because training data is extremely unbalanced \n",
        "         }"
      ]
    },
    {
      "cell_type": "code",
      "execution_count": null,
      "metadata": {
        "_uuid": "182aad358dc1359111ff8704d25b7449c0fa5901",
        "id": "af0UyNliTPvY",
        "trusted": true
      },
      "outputs": [],
      "source": [
        "dtrain = lgb.Dataset(train_df[predictors].values, \n",
        "                     label=train_df[target].values,\n",
        "                     feature_name=predictors)\n",
        "\n",
        "dvalid = lgb.Dataset(valid_df[predictors].values,\n",
        "                     label=valid_df[target].values,\n",
        "                     feature_name=predictors)"
      ]
    },
    {
      "cell_type": "code",
      "execution_count": null,
      "metadata": {
        "_uuid": "e0590673dd712c4070133451ef8b9f8f4bf07712",
        "id": "dM-w9GhETPvY",
        "trusted": true
      },
      "outputs": [],
      "source": [
        "evals_results = {}\n",
        "\n",
        "model = lgb.train(params, \n",
        "                  dtrain, \n",
        "                  valid_sets=[dtrain, dvalid], \n",
        "                  valid_names=['train','valid'], \n",
        "                  evals_result=evals_results, \n",
        "                  num_boost_round=MAX_ROUNDS,\n",
        "                  early_stopping_rounds=2*EARLY_STOP,\n",
        "                  verbose_eval=VERBOSE_EVAL, \n",
        "                  feval=None)\n"
      ]
    },
    {
      "cell_type": "code",
      "execution_count": null,
      "metadata": {
        "_uuid": "cc63244fa4d424f2680d60722c6ce3343f63f162",
        "id": "UxURivcuTPvY",
        "trusted": true
      },
      "outputs": [],
      "source": [
        "fig, (ax) = plt.subplots(ncols=1, figsize=(8,5))\n",
        "lgb.plot_importance(model, height=0.8, title=\"Features importance (LightGBM)\", ax=ax,color=\"red\") \n",
        "plt.show()"
      ]
    },
    {
      "cell_type": "code",
      "execution_count": null,
      "metadata": {
        "_uuid": "76814af125071b56398f76511b1a88b7830300f2",
        "id": "_1P6wIFgTPvY",
        "trusted": true
      },
      "outputs": [],
      "source": [
        "preds = model.predict(test_df[predictors])"
      ]
    },
    {
      "cell_type": "code",
      "execution_count": null,
      "metadata": {
        "_uuid": "c95c74cecb7a9facd24e11d763728e488c364035",
        "id": "L_wskhDETPvY",
        "trusted": true
      },
      "outputs": [],
      "source": [
        "roc_auc_score(test_df[target].values, preds)"
      ]
    },
    {
      "cell_type": "code",
      "execution_count": null,
      "metadata": {
        "_uuid": "9b277ba40e30206134a6796eeaf979fc2f57274e",
        "id": "QI_KAiQcTPvZ",
        "trusted": true
      },
      "outputs": [],
      "source": [
        "kf = KFold(n_splits = NUMBER_KFOLDS, random_state = RANDOM_STATE, shuffle = True)\n",
        "\n",
        "# Create arrays and dataframes to store results\n",
        "oof_preds = np.zeros(train_df.shape[0])\n",
        "test_preds = np.zeros(test_df.shape[0])\n",
        "feature_importance_df = pd.DataFrame()\n",
        "n_fold = 0\n",
        "for train_idx, valid_idx in kf.split(train_df):\n",
        "    train_x, train_y = train_df[predictors].iloc[train_idx],train_df[target].iloc[train_idx]\n",
        "    valid_x, valid_y = train_df[predictors].iloc[valid_idx],train_df[target].iloc[valid_idx]\n",
        "    \n",
        "    evals_results = {}\n",
        "    model =  LGBMClassifier(\n",
        "                  nthread=-1,\n",
        "                  n_estimators=2000,\n",
        "                  learning_rate=0.01,\n",
        "                  num_leaves=80,\n",
        "                  colsample_bytree=0.98,\n",
        "                  subsample=0.78,\n",
        "                  reg_alpha=0.04,\n",
        "                  reg_lambda=0.073,\n",
        "                  subsample_for_bin=50,\n",
        "                  boosting_type='gbdt',\n",
        "                  is_unbalance=False,\n",
        "                  min_split_gain=0.025,\n",
        "                  min_child_weight=40,\n",
        "                  min_child_samples=510,\n",
        "                  objective='binary',\n",
        "                  metric='auc',\n",
        "                  silent=-1,\n",
        "                  verbose=-1,\n",
        "                  feval=None)\n",
        "    model.fit(train_x, train_y, eval_set=[(train_x, train_y), (valid_x, valid_y)], \n",
        "                eval_metric= 'auc', verbose= VERBOSE_EVAL, early_stopping_rounds= EARLY_STOP)\n",
        "    \n",
        "    oof_preds[valid_idx] = model.predict_proba(valid_x, num_iteration=model.best_iteration_)[:, 1]\n",
        "    test_preds += model.predict_proba(test_df[predictors], num_iteration=model.best_iteration_)[:, 1] / kf.n_splits\n",
        "    \n",
        "    fold_importance_df = pd.DataFrame()\n",
        "    fold_importance_df[\"feature\"] = predictors\n",
        "    fold_importance_df[\"importance\"] = clf.feature_importances_\n",
        "    fold_importance_df[\"fold\"] = n_fold + 1\n",
        "    \n",
        "    feature_importance_df = pd.concat([feature_importance_df, fold_importance_df], axis=0)\n",
        "    print('Fold %2d AUC : %.6f' % (n_fold + 1, roc_auc_score(valid_y, oof_preds[valid_idx])))\n",
        "    del model, train_x, train_y, valid_x, valid_y\n",
        "    gc.collect()\n",
        "    n_fold = n_fold + 1\n",
        "train_auc_score = roc_auc_score(train_df[target], oof_preds)\n",
        "print('Full AUC score %.6f' % train_auc_score)                                    "
      ]
    },
    {
      "cell_type": "markdown",
      "metadata": {
        "_uuid": "e2a1e8c82317fd667ba9c159456602a42599e784",
        "id": "bZgDtYY0TPvZ"
      },
      "source": [
        "pred = test_preds"
      ]
    }
  ],
  "metadata": {
    "colab": {
      "provenance": []
    },
    "kernelspec": {
      "display_name": "Python 3",
      "language": "python",
      "name": "python3"
    },
    "language_info": {
      "codemirror_mode": {
        "name": "ipython",
        "version": 3
      },
      "file_extension": ".py",
      "mimetype": "text/x-python",
      "name": "python",
      "nbconvert_exporter": "python",
      "pygments_lexer": "ipython3",
      "version": "3.6.4"
    }
  },
  "nbformat": 4,
  "nbformat_minor": 0
}
